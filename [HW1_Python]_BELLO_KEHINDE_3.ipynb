{
  "cells": [
    {
      "cell_type": "markdown",
      "id": "8f868eb6",
      "metadata": {
        "id": "8f868eb6"
      },
      "source": [
        "# Homework 1 - Python\n",
        "\n",
        "First Name: Kehinde\n",
        "\n",
        "Last Name: Bello\n",
        "\n",
        "Group: PD231\n",
        "\n",
        "### After the assigment is done, please, push it to your [private GitHub repository](https://docs.github.com/en/github/administering-a-repository/managing-repository-settings/setting-repository-visibility) and invite [Majid-Sohrabi](https://github.com/Majid-Sohrabi)  as [collaborator](https://docs.github.com/en/account-and-profile/setting-up-and-managing-your-github-user-account/managing-access-to-your-personal-repositories/inviting-collaborators-to-a-personal-repository)."
      ]
    },
    {
      "cell_type": "markdown",
      "id": "f47683d8",
      "metadata": {
        "id": "f47683d8"
      },
      "source": [
        "## Task 1  (0.5 point)\n",
        "\n",
        "Write a program that takes two numbers as input and prints whether the first number is greater than, less than, or equal to the second number."
      ]
    },
    {
      "cell_type": "code",
      "execution_count": 3,
      "id": "2d62ba3d",
      "metadata": {
        "colab": {
          "base_uri": "https://localhost:8080/"
        },
        "id": "2d62ba3d",
        "outputId": "7a999d28-2477-40c3-a72a-0a00919576d3"
      },
      "outputs": [
        {
          "output_type": "stream",
          "name": "stdout",
          "text": [
            "Enter the first number: 3\n",
            "Enter the second number: 7\n",
            "3.0 is less than 7.0.\n"
          ]
        }
      ],
      "source": [
        "num1 = float(input(\"Enter the first number: \"))\n",
        "num2 = float(input(\"Enter the second number: \"))\n",
        "\n",
        "\n",
        "if num1 > num2:\n",
        "    print(f\"{num1} is greater than {num2}.\")\n",
        "elif num1 < num2:\n",
        "    print(f\"{num1} is less than {num2}.\")\n",
        "else:\n",
        "    print(f\"{num1} is equal to {num2}.\")\n"
      ]
    },
    {
      "cell_type": "markdown",
      "id": "d03af2f7",
      "metadata": {
        "id": "d03af2f7"
      },
      "source": [
        "## Task 2 (0.5 point)\n",
        "\n",
        "Write a program that receives a positive integer `N` from the user, the task is to find following formula:\n",
        "\n",
        "$$\n",
        "1^2 + 2^3 + 3^2 + ... + N^2 (or N^3)\n",
        "$$\n",
        "\n",
        "1. If the number is odd then rais to the power of 2.\n",
        "2. If the numner is even then rais to the power of 3.\n",
        "\n",
        "\n",
        "Example:\n",
        "\n",
        "$$\n",
        "N = 5\n",
        "$$\n",
        "\n",
        "$$\n",
        "1^2 + 2^3 + 3^2 + 4^3 + 5^2 = (1 + 8 + 9 + 64 + 25) = 107\n",
        "$$\n"
      ]
    },
    {
      "cell_type": "code",
      "source": [
        "def calculate_sum(N):\n",
        "    total_sum = 0\n",
        "    for i in range(1, N+1):\n",
        "        if i % 2 == 0:  # If the number is even\n",
        "            total_sum += i ** 3\n",
        "        else:           # If the number is odd\n",
        "            total_sum += i ** 2\n",
        "    return total_sum\n",
        "\n",
        "N = 7\n",
        "\n",
        "result = calculate_sum(N)\n",
        "print(\"The sum is:\", result)\n",
        "\n"
      ],
      "metadata": {
        "colab": {
          "base_uri": "https://localhost:8080/"
        },
        "id": "2zl4zNyCuPwM",
        "outputId": "c922f5b8-b77b-4c2f-d5a9-90463aab1cc2"
      },
      "id": "2zl4zNyCuPwM",
      "execution_count": 14,
      "outputs": [
        {
          "output_type": "stream",
          "name": "stdout",
          "text": [
            "The sum is: 372\n"
          ]
        }
      ]
    },
    {
      "cell_type": "markdown",
      "id": "89040ea7",
      "metadata": {
        "id": "89040ea7"
      },
      "source": [
        "## Task 3  (0.5 points)\n",
        "\n",
        "Write a python program to rotate the elements of an array with an arbitrary direction (left or right) and arbitrary number or elements.\n",
        "\n",
        "1. The user need to insert the term ('left' or 'right') which shows the direction of the rotation.\n",
        "2. The user need to insert the number d which specifies how many elements need to be rotated.\n",
        "\n",
        "Example:\n",
        "\n",
        "```\n",
        "List (array) = [1, 2, 3, 4, 5, 6, 7]\n",
        "\n",
        "if left shift by 2 elements:\n",
        "\n",
        "Ooutput = [3, 4, 5, 6, 7, 1, 2]\n",
        "```"
      ]
    },
    {
      "cell_type": "code",
      "execution_count": 15,
      "id": "782170f2",
      "metadata": {
        "colab": {
          "base_uri": "https://localhost:8080/"
        },
        "id": "782170f2",
        "outputId": "d4d22390-0589-46a9-b551-0b2f7ae5f9d6"
      },
      "outputs": [
        {
          "output_type": "stream",
          "name": "stdout",
          "text": [
            "Original array: [1, 3, 5, 7, 9]\n",
            "Rotated array: [1, 3, 5, 7, 9]\n"
          ]
        }
      ],
      "source": [
        "def rotate_array(arr, direction, d):\n",
        "    n = len(arr)\n",
        "    if direction == 'left':\n",
        "        d = d % n\n",
        "        arr = arr[d:] + arr[:d]\n",
        "    elif direction == 'right':\n",
        "        d = d % n\n",
        "        arr = arr[-d:] + arr[:-d]\n",
        "    return arr\n",
        "\n",
        "\n",
        "arr = [1, 3, 5, 7, 9]\n",
        "\n",
        "\n",
        "direction = 'left'  # or 'right'\n",
        "d = 5\n",
        "\n",
        "\n",
        "rotated_array = rotate_array(arr, direction, d)\n",
        "print(\"Original array:\", arr)\n",
        "print(\"Rotated array:\", rotated_array)"
      ]
    },
    {
      "cell_type": "markdown",
      "id": "9f0f0213",
      "metadata": {
        "id": "9f0f0213"
      },
      "source": [
        "## Task 4  (0.5 points)\n",
        "\n",
        "Write a program that takes an integer as input and prints whether it is even or odd."
      ]
    },
    {
      "cell_type": "code",
      "execution_count": 16,
      "id": "c79ed191",
      "metadata": {
        "colab": {
          "base_uri": "https://localhost:8080/"
        },
        "id": "c79ed191",
        "outputId": "8073b431-bb3a-4ffe-d961-0cdb73ce7a48"
      },
      "outputs": [
        {
          "output_type": "stream",
          "name": "stdout",
          "text": [
            "11 is odd.\n"
          ]
        }
      ],
      "source": [
        "def check_even_odd(num):\n",
        "    if num % 2 == 0:\n",
        "        print(f\"{num} is even.\")\n",
        "    else:\n",
        "        print(f\"{num} is odd.\")\n",
        "\n",
        "num = 11\n",
        "\n",
        "check_even_odd(num)"
      ]
    },
    {
      "cell_type": "markdown",
      "id": "8a0edbe2",
      "metadata": {
        "id": "8a0edbe2"
      },
      "source": [
        "## Task 5  (0.5 point)\n",
        "\n",
        "Write a program that splits a list by an index inserted by the user, then cut the list from that index and attach the right part to the beginning of the list.\n",
        "\n",
        "Example:\n",
        "\n",
        "\n",
        "list: [1, 2, 3, 4, **5, 6, 7**]\n",
        "\n",
        "new list: [**5, 6, 7**, 1, 2, 3, 4]"
      ]
    },
    {
      "cell_type": "code",
      "execution_count": 17,
      "id": "5414b2cf",
      "metadata": {
        "colab": {
          "base_uri": "https://localhost:8080/"
        },
        "id": "5414b2cf",
        "outputId": "bf89921c-1953-48c6-924f-b467ccc7caf4"
      },
      "outputs": [
        {
          "output_type": "stream",
          "name": "stdout",
          "text": [
            "New list: [9, 11, 1, 3, 5, 7]\n"
          ]
        }
      ],
      "source": [
        "def split_and_attach(lst, index):\n",
        "    if index < 0 or index >= len(lst):\n",
        "        print(\"Index out of range.\")\n",
        "        return lst\n",
        "    else:\n",
        "        return lst[index:] + lst[:index]\n",
        "\n",
        "lst = [1, 3, 5, 7, 9, 11]\n",
        "index = 4\n",
        "\n",
        "new_list = split_and_attach(lst, index)\n",
        "print(\"New list:\", new_list)"
      ]
    },
    {
      "cell_type": "markdown",
      "id": "63c550f5",
      "metadata": {
        "id": "63c550f5"
      },
      "source": [
        "## Task 6  (0.5 point)\n",
        "\n",
        "Write a program that takes a numeric grade as input and prints the corresponding letter grade (A, B, C, D, or F) according to the following criteria: A: 90-100, B: 80-89, C: 70-79, D: 60-69, F: 0-59."
      ]
    },
    {
      "cell_type": "code",
      "execution_count": 18,
      "id": "90fcc676",
      "metadata": {
        "colab": {
          "base_uri": "https://localhost:8080/"
        },
        "id": "90fcc676",
        "outputId": "9f2e8a26-3c00-45c6-b6c7-5d940763b143"
      },
      "outputs": [
        {
          "output_type": "stream",
          "name": "stdout",
          "text": [
            "The corresponding letter grade for 65 is D.\n"
          ]
        }
      ],
      "source": [
        "def numeric_to_letter_grade(grade):\n",
        "    if grade >= 90:\n",
        "        return 'A'\n",
        "    elif grade >= 80:\n",
        "        return 'B'\n",
        "    elif grade >= 70:\n",
        "        return 'C'\n",
        "    elif grade >= 60:\n",
        "        return 'D'\n",
        "    else:\n",
        "        return 'F'\n",
        "\n",
        "numeric_grade = 65\n",
        "\n",
        "letter_grade = numeric_to_letter_grade(numeric_grade)\n",
        "\n",
        "print(f\"The corresponding letter grade for {numeric_grade} is {letter_grade}.\")"
      ]
    },
    {
      "cell_type": "markdown",
      "id": "fb3f7250",
      "metadata": {
        "id": "fb3f7250"
      },
      "source": [
        "## Task 7  (0.5 point)\n",
        "\n",
        "Write a program that takes a year as input and prints whether it is a leap year or not. Leap years are divisible by 4, but not by 100 unless also divisible by 400."
      ]
    },
    {
      "cell_type": "code",
      "execution_count": 19,
      "id": "159f06e3",
      "metadata": {
        "colab": {
          "base_uri": "https://localhost:8080/"
        },
        "id": "159f06e3",
        "outputId": "12f58bdd-8f14-4ec8-980d-cdfba17bad6b"
      },
      "outputs": [
        {
          "output_type": "stream",
          "name": "stdout",
          "text": [
            "1887 is not a leap year.\n"
          ]
        }
      ],
      "source": [
        "def is_leap_year(year):\n",
        "    if (year % 4 == 0 and year % 100 != 0) or (year % 400 == 0):\n",
        "        return True\n",
        "    else:\n",
        "        return False\n",
        "\n",
        "year = 1887\n",
        "\n",
        "if is_leap_year(year):\n",
        "    print(f\"{year} is a leap year.\")\n",
        "else:\n",
        "    print(f\"{year} is not a leap year.\")"
      ]
    },
    {
      "cell_type": "markdown",
      "id": "7e46ae74",
      "metadata": {
        "id": "7e46ae74"
      },
      "source": [
        "## Task 8  (0.5 point)\n",
        "\n",
        "Write a program that takes a number as input and prints whether it falls within the range of 1 to 100 (inclusive)."
      ]
    },
    {
      "cell_type": "code",
      "execution_count": 20,
      "id": "142d9d7a",
      "metadata": {
        "colab": {
          "base_uri": "https://localhost:8080/"
        },
        "id": "142d9d7a",
        "outputId": "4cb20319-07e5-42cc-a804-03e07167abbb"
      },
      "outputs": [
        {
          "output_type": "stream",
          "name": "stdout",
          "text": [
            "The number 88 falls within the range of 1 to 100.\n"
          ]
        }
      ],
      "source": [
        "def check_number_range(num):\n",
        "    if 1 <= num <= 100:\n",
        "        print(f\"The number {num} falls within the range of 1 to 100.\")\n",
        "    else:\n",
        "        print(f\"The number {num} does not fall within the range of 1 to 100.\")\n",
        "\n",
        "num = 88\n",
        "\n",
        "check_number_range(num)"
      ]
    },
    {
      "cell_type": "markdown",
      "id": "d1d75ffd",
      "metadata": {
        "id": "d1d75ffd"
      },
      "source": [
        "## Task 9  (0.5 point)\n",
        "\n",
        "Write a program that takes a character (letter) as input and prints whether it is a vowel or a consonant."
      ]
    },
    {
      "cell_type": "code",
      "execution_count": 21,
      "id": "dec0c2b5",
      "metadata": {
        "colab": {
          "base_uri": "https://localhost:8080/"
        },
        "id": "dec0c2b5",
        "outputId": "1d69d394-f29e-4bbe-8146-6a5596915c03"
      },
      "outputs": [
        {
          "output_type": "stream",
          "name": "stdout",
          "text": [
            "The character 'U' is a vowel.\n"
          ]
        }
      ],
      "source": [
        "def check_vowel_or_consonant(char):\n",
        "    vowels = 'aeiouAEIOU'\n",
        "    if char.isalpha() and len(char) == 1:\n",
        "        if char in vowels:\n",
        "            print(f\"The character '{char}' is a vowel.\")\n",
        "        else:\n",
        "            print(f\"The character '{char}' is a consonant.\")\n",
        "    else:\n",
        "        print(\"Invalid input. Please enter a single letter.\")\n",
        "\n",
        "letter = 'U'\n",
        "\n",
        "check_vowel_or_consonant(letter)"
      ]
    },
    {
      "cell_type": "markdown",
      "id": "f026862b",
      "metadata": {
        "id": "f026862b"
      },
      "source": [
        "## Task 10  (0.5 point)\n",
        "\n",
        "Write a program that takes a number representing a day of the week (1 for Monday, 2 for Tuesday, etc.) and prints the corresponding day name."
      ]
    },
    {
      "cell_type": "code",
      "execution_count": 22,
      "id": "139ad2ab",
      "metadata": {
        "colab": {
          "base_uri": "https://localhost:8080/"
        },
        "id": "139ad2ab",
        "outputId": "3b87aeee-4f64-4abf-9d83-5f50e60ed4d6"
      },
      "outputs": [
        {
          "output_type": "stream",
          "name": "stdout",
          "text": [
            "The corresponding day name for 2 is Tuesday.\n"
          ]
        }
      ],
      "source": [
        "def get_day_name(day_number):\n",
        "    days_of_week = {\n",
        "        1: 'Monday',\n",
        "        2: 'Tuesday',\n",
        "        3: 'Wednesday',\n",
        "        4: 'Thursday',\n",
        "        5: 'Friday',\n",
        "        6: 'Saturday',\n",
        "        7: 'Sunday'\n",
        "    }\n",
        "    if day_number in days_of_week:\n",
        "        return days_of_week[day_number]\n",
        "    else:\n",
        "        return \"Invalid day number. Please enter a number between 1 and 7.\"\n",
        "\n",
        "day_number = 2\n",
        "\n",
        "day_name = get_day_name(day_number)\n",
        "\n",
        "print(f\"The corresponding day name for {day_number} is {day_name}.\")"
      ]
    }
  ],
  "metadata": {
    "kernelspec": {
      "display_name": "Python 3 (ipykernel)",
      "language": "python",
      "name": "python3"
    },
    "language_info": {
      "codemirror_mode": {
        "name": "ipython",
        "version": 3
      },
      "file_extension": ".py",
      "mimetype": "text/x-python",
      "name": "python",
      "nbconvert_exporter": "python",
      "pygments_lexer": "ipython3",
      "version": "3.10.9"
    },
    "colab": {
      "provenance": []
    }
  },
  "nbformat": 4,
  "nbformat_minor": 5
}