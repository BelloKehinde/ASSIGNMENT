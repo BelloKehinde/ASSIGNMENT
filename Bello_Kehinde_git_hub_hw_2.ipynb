{
  "cells": [
    {
      "cell_type": "markdown",
      "id": "8f868eb6",
      "metadata": {
        "id": "8f868eb6"
      },
      "source": [
        "# Homework 2 - Python\n",
        "\n",
        "First Name:\n",
        "\n",
        "Last Name:\n",
        "\n",
        "Group:"
      ]
    },
    {
      "cell_type": "markdown",
      "id": "f47683d8",
      "metadata": {
        "id": "f47683d8"
      },
      "source": [
        "## Task 1  (1.5 point)\n",
        "\n",
        "Let's develop the idea from the task in homework 1, now consider a 2D array, and you want to implement a program that not only shift to right or left, but also, it can shift up or down.\n",
        "\n",
        "In this scenario, the user need to insert four different arguments:\n",
        "\n",
        "1. Row shift or column shift? ('row' or 'column')\n",
        "\n",
        "2. Which direction? ('left', 'right' or 'top', 'down')\n",
        "\n",
        "3. Index of the column or row? (an integer index)\n",
        "\n",
        "4. How many elements need to be shifted? (integer number)"
      ]
    },
    {
      "cell_type": "code",
      "execution_count": 1,
      "id": "2d62ba3d",
      "metadata": {
        "colab": {
          "base_uri": "https://localhost:8080/"
        },
        "id": "2d62ba3d",
        "outputId": "80e725a7-f761-4301-d29d-b45f96816fd0"
      },
      "outputs": [
        {
          "output_type": "stream",
          "name": "stdout",
          "text": [
            "Shifted array:\n",
            "[18, 11, 20]\n",
            "[12, 19, 14]\n",
            "[10, 13, 12]\n"
          ]
        }
      ],
      "source": [
        "def shift_array(arr, shift_type, direction, index, num_shifts):\n",
        "    rows = len(arr)\n",
        "    columns = len(arr[0])\n",
        "\n",
        "    if shift_type == 'row':\n",
        "        if direction == 'right':\n",
        "            arr[index] = arr[index][-num_shifts:] + arr[index][:-num_shifts]\n",
        "        elif direction == 'left':\n",
        "            arr[index] = arr[index][num_shifts:] + arr[index][:num_shifts]\n",
        "    elif shift_type == 'column':\n",
        "        if direction == 'down':\n",
        "            for i in range(num_shifts):\n",
        "                temp = arr[rows - 1][index]\n",
        "                for j in range(rows - 1, 0, -1):\n",
        "                    arr[j][index] = arr[j - 1][index]\n",
        "                arr[0][index] = temp\n",
        "        elif direction == 'up':\n",
        "            for i in range(num_shifts):\n",
        "                temp = arr[0][index]\n",
        "                for j in range(0, rows - 1):\n",
        "                    arr[j][index] = arr[j + 1][index]\n",
        "                arr[rows - 1][index] = temp\n",
        "\n",
        "    return arr\n",
        "\n",
        "\n",
        "array_2d = [[18, 19, 20],\n",
        "            [12, 13, 14],\n",
        "            [10, 11, 12]]\n",
        "\n",
        "\n",
        "shift_type = 'column'  # or 'row'\n",
        "direction = 'down'  # or 'up' for column shift, 'left' or 'right' for row shift\n",
        "index = 1  # index of the column or row\n",
        "num_shifts = 1  # number of elements to shift\n",
        "\n",
        "shifted_array = shift_array(array_2d, shift_type, direction, index, num_shifts)\n",
        "print(\"Shifted array:\")\n",
        "for row in shifted_array:\n",
        "    print(row)"
      ]
    },
    {
      "cell_type": "markdown",
      "id": "d03af2f7",
      "metadata": {
        "id": "d03af2f7"
      },
      "source": [
        "## Task 2 (1.5 point)\n",
        "\n",
        "Let's practice (if, elif, else). In this task you need to write a program that determins the result of the rock, paper, scissors game which is given by two players (Player 1 and Player 2). The program should print out the result.\n",
        "\n",
        "Rules of the game:\n",
        "- **Paper** beats **rock**\n",
        "- **Scissors** beats **paper**\n",
        "- **Rock** beats **scissors**\n",
        "\n",
        "To understand the logic, write all the combination of the choices for player 1 and player 2 to check the outsomes. It helps you to understand how to write the code.\n",
        "\n",
        "Example of the outcome:\n",
        "```\n",
        "Player 1? scissors\n",
        "Player 2? paper\n",
        "\n",
        "Player 1 wins.\n",
        "```\n",
        "\n",
        "The only valid inputs are `rock`, `paper`, `scissors`. In case the user imported something else, the program prints `\"This input is not valid for our game!\"`"
      ]
    },
    {
      "cell_type": "code",
      "execution_count": 3,
      "id": "53894434",
      "metadata": {
        "colab": {
          "base_uri": "https://localhost:8080/"
        },
        "id": "53894434",
        "outputId": "aa7d2e1e-f189-455f-805f-3d2efb37a7ed"
      },
      "outputs": [
        {
          "output_type": "stream",
          "name": "stdout",
          "text": [
            "Player 1? paper\n",
            "Player 2? scissors\n",
            "Player 2 wins.\n"
          ]
        }
      ],
      "source": [
        "\n",
        "  def determine_winner(player1, player2):\n",
        "    if player1 == player2:\n",
        "        return \"It's a tie!\"\n",
        "    elif player1 == 'rock':\n",
        "        if player2 == 'scissors':\n",
        "            return \"Player 1 wins.\"\n",
        "        else:\n",
        "            return \"Player 2 wins.\"\n",
        "    elif player1 == 'paper':\n",
        "        if player2 == 'rock':\n",
        "            return \"Player 1 wins.\"\n",
        "        else:\n",
        "            return \"Player 2 wins.\"\n",
        "    elif player1 == 'scissors':\n",
        "        if player2 == 'paper':\n",
        "            return \"Player 1 wins.\"\n",
        "        else:\n",
        "            return \"Player 2 wins.\"\n",
        "    else:\n",
        "        return \"This input is not valid for our game!\"\n",
        "\n",
        "\n",
        "player1_choice = input(\"Player 1? \").lower()\n",
        "player2_choice = input(\"Player 2? \").lower()\n",
        "\n",
        "\n",
        "result = determine_winner(player1_choice, player2_choice)\n",
        "print(result)"
      ]
    },
    {
      "cell_type": "markdown",
      "id": "89040ea7",
      "metadata": {
        "id": "89040ea7"
      },
      "source": [
        "## Task 3  (0.5 points)\n",
        "\n",
        "Write a program to generate the following output by a for loop:\n",
        "\n",
        "Output:\n",
        "\n",
        "```\n",
        "*\n",
        "**\n",
        "***\n",
        "****\n",
        "*****\n",
        "******\n",
        "*******\n",
        "******\n",
        "*****\n",
        "****\n",
        "***\n",
        "**\n",
        "*\n",
        "```"
      ]
    },
    {
      "cell_type": "code",
      "execution_count": 4,
      "id": "782170f2",
      "metadata": {
        "colab": {
          "base_uri": "https://localhost:8080/"
        },
        "id": "782170f2",
        "outputId": "b2ee375a-5dd5-41d7-a2f4-613b796c1525"
      },
      "outputs": [
        {
          "output_type": "stream",
          "name": "stdout",
          "text": [
            "*\n",
            "**\n",
            "***\n",
            "****\n",
            "*****\n",
            "******\n",
            "*******\n",
            "******\n",
            "*****\n",
            "****\n",
            "***\n",
            "**\n",
            "*\n"
          ]
        }
      ],
      "source": [
        "for i in range(1, 8):\n",
        "    print('*' * i)\n",
        "\n",
        "for i in range(6, 0, -1):\n",
        "    print('*' * i)\n"
      ]
    },
    {
      "cell_type": "markdown",
      "id": "9f0f0213",
      "metadata": {
        "id": "9f0f0213"
      },
      "source": [
        "## Task 4  (0.5 points)\n",
        "\n",
        "**Step 1**: Write a program that returns a list that contains only the elements that are common between the provided lists (without duplicates). Be sure that your program `also` works on the two lists with different sizes.\n",
        "\n",
        "```\n",
        "a = [2, 2, 3, 1, 1, 1, 1, 3, 2, 2, 6, 5, 4, 7, 8, 31]\n",
        "b = [2, 7, 4, 6, 7, 4, 2, 31, 2, 5, 11, 1, 2, 1, 3, 1, 7, 9, 5]\n",
        "```"
      ]
    },
    {
      "cell_type": "code",
      "execution_count": 5,
      "id": "c79ed191",
      "metadata": {
        "colab": {
          "base_uri": "https://localhost:8080/"
        },
        "id": "c79ed191",
        "outputId": "6ccd49bb-88d9-4ccf-db5d-535b55ccb908"
      },
      "outputs": [
        {
          "output_type": "stream",
          "name": "stdout",
          "text": [
            "Common elements: [1, 2, 3, 4, 5, 6, 7, 31]\n"
          ]
        }
      ],
      "source": [
        "a = [2, 2, 3, 1, 1, 1, 1, 3, 2, 2, 6, 5, 4, 7, 8, 31]\n",
        "b = [2, 7, 4, 6, 7, 4, 2, 31, 2, 5, 11, 1, 2, 1, 3, 1, 7, 9, 5]\n",
        "\n",
        "\n",
        "set_a = set(a)\n",
        "set_b = set(b)\n",
        "\n",
        "\n",
        "common_elements = list(set_a.intersection(set_b))\n",
        "\n",
        "print(\"Common elements:\", common_elements)"
      ]
    },
    {
      "cell_type": "markdown",
      "id": "8a0edbe2",
      "metadata": {
        "id": "8a0edbe2"
      },
      "source": [
        "## Task 5  (0.5 point)\n",
        "\n",
        "Write a program to ask the user to insert a string, and print out whether this string is a palindrome or not.\n",
        "\n",
        "**Note:** A string is said to be a palindrome if it is the same if we start reading it from left to right or right to left."
      ]
    },
    {
      "cell_type": "code",
      "execution_count": 6,
      "id": "5414b2cf",
      "metadata": {
        "colab": {
          "base_uri": "https://localhost:8080/"
        },
        "id": "5414b2cf",
        "outputId": "6355bd39-4be4-4636-9883-c175fe8e6f72"
      },
      "outputs": [
        {
          "output_type": "stream",
          "name": "stdout",
          "text": [
            "The string 'level' is a palindrome.\n"
          ]
        }
      ],
      "source": [
        "def is_palindrome(string):\n",
        "\n",
        "    clean_string = string.replace(\" \", \"\").lower()\n",
        "\n",
        "    return clean_string == clean_string[::-1]\n",
        "\n",
        "\n",
        "example_string = \"level\"\n",
        "\n",
        "if is_palindrome(example_string):\n",
        "    print(f\"The string '{example_string}' is a palindrome.\")\n",
        "else:\n",
        "    print(f\"The string '{example_string}' is not a palindrome.\")\n"
      ]
    },
    {
      "cell_type": "markdown",
      "id": "63c550f5",
      "metadata": {
        "id": "63c550f5"
      },
      "source": [
        "## Task 6  (0.5 point)\n",
        "\n",
        "Let's consider we have saved a list in a variable. E.g. `my_list = [2, 5, 4, 4, 6, 7, 5, 6, 9, 22, 23, 44, 32]`\n",
        "\n",
        "Write a program that takes this list and makes a new list that has only the odd elements of this list in it."
      ]
    },
    {
      "cell_type": "code",
      "execution_count": 7,
      "id": "90fcc676",
      "metadata": {
        "colab": {
          "base_uri": "https://localhost:8080/"
        },
        "id": "90fcc676",
        "outputId": "7b8c2915-ebae-4139-9045-15992f537444"
      },
      "outputs": [
        {
          "output_type": "stream",
          "name": "stdout",
          "text": [
            "List with only odd elements: [5, 7, 5, 9, 23]\n"
          ]
        }
      ],
      "source": [
        "my_list = [2, 5, 4, 4, 6, 7, 5, 6, 9, 22, 23, 44, 32]\n",
        "\n",
        "odd_list = [x for x in my_list if x % 2 != 0]\n",
        "\n",
        "print(\"List with only odd elements:\", odd_list)"
      ]
    }
  ],
  "metadata": {
    "kernelspec": {
      "display_name": "Python 3 (ipykernel)",
      "language": "python",
      "name": "python3"
    },
    "language_info": {
      "codemirror_mode": {
        "name": "ipython",
        "version": 3
      },
      "file_extension": ".py",
      "mimetype": "text/x-python",
      "name": "python",
      "nbconvert_exporter": "python",
      "pygments_lexer": "ipython3",
      "version": "3.10.9"
    },
    "colab": {
      "provenance": []
    }
  },
  "nbformat": 4,
  "nbformat_minor": 5
}